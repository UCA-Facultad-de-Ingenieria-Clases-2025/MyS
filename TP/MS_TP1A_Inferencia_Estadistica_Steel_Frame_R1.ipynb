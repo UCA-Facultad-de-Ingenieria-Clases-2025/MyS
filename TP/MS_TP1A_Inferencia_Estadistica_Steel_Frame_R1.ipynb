{
 "cells": [
  {
   "cell_type": "markdown",
   "id": "dcdc6780",
   "metadata": {},
   "source": [
    "# Modelos y Simulación – Trabajo Práctico para Clase 1 \n",
    "\n",
    "## Introducción a la Inferencia Estadística \n",
    "\n",
    "**Autor: Cátedra – Modelos y Simulación - Facultad de Ingeniería - UCA**     \n",
    "**Fecha: 2025-08-09**   \n",
    "**Documento: MS_TP1A_Inferencia_Estadistica_Steel_Frame_R1.ipynb**   \n",
    "### Temas: Estimación puntual, intervalos de confianza, pruebas de hipótesis (t de Student), errores Tipo I y II, potencia, tamaño muestral.\n",
    "### Contexto: datos de perfiles y paneles (espesor, resistencia, recubrimiento, U-value)."
   ]
  },
  {
   "cell_type": "markdown",
   "id": "4cf7fb28-e58e-40cb-a202-0b1d6fa3db51",
   "metadata": {},
   "source": [
    "#### Requisitos:\n",
    "- Ver README.md en reposiorio: https://github.com/UCA-Facultad-de-Ingenieria-Clases-2025/MyS/blob/main/README.md   \n",
    "- Instalar venv y llamarlo venvmys\n",
    "- Registrar el kernel en venvmys   \n",
    "- Usar directorio con el siguiente nombre: ../MyS/\n",
    "- A continuación indicar paquetes necesarios"
   ]
  },
  {
   "cell_type": "code",
   "execution_count": 2,
   "id": "512cecf2-cb9d-4161-b84d-2a93ea7da481",
   "metadata": {},
   "outputs": [
    {
     "name": "stdout",
     "output_type": "stream",
     "text": [
      "/home/javier/Documents/GitRepo/UCA/MyS/venvmys/bin/python\n",
      "Requirement already satisfied: pandas in /home/javier/Documents/GitRepo/UCA/MyS/venvmys/lib/python3.10/site-packages (2.3.1)\n",
      "Requirement already satisfied: numpy>=1.22.4 in /home/javier/Documents/GitRepo/UCA/MyS/venvmys/lib/python3.10/site-packages (from pandas) (2.2.6)\n",
      "Requirement already satisfied: python-dateutil>=2.8.2 in /home/javier/Documents/GitRepo/UCA/MyS/venvmys/lib/python3.10/site-packages (from pandas) (2.9.0.post0)\n",
      "Requirement already satisfied: pytz>=2020.1 in /home/javier/Documents/GitRepo/UCA/MyS/venvmys/lib/python3.10/site-packages (from pandas) (2025.2)\n",
      "Requirement already satisfied: tzdata>=2022.7 in /home/javier/Documents/GitRepo/UCA/MyS/venvmys/lib/python3.10/site-packages (from pandas) (2025.2)\n",
      "Requirement already satisfied: six>=1.5 in /home/javier/Documents/GitRepo/UCA/MyS/venvmys/lib/python3.10/site-packages (from python-dateutil>=2.8.2->pandas) (1.17.0)\n",
      "Note: you may need to restart the kernel to use updated packages.\n",
      "Requirement already satisfied: matplotlib in /home/javier/Documents/GitRepo/UCA/MyS/venvmys/lib/python3.10/site-packages (3.10.5)\n",
      "Requirement already satisfied: contourpy>=1.0.1 in /home/javier/Documents/GitRepo/UCA/MyS/venvmys/lib/python3.10/site-packages (from matplotlib) (1.3.2)\n",
      "Requirement already satisfied: cycler>=0.10 in /home/javier/Documents/GitRepo/UCA/MyS/venvmys/lib/python3.10/site-packages (from matplotlib) (0.12.1)\n",
      "Requirement already satisfied: fonttools>=4.22.0 in /home/javier/Documents/GitRepo/UCA/MyS/venvmys/lib/python3.10/site-packages (from matplotlib) (4.59.1)\n",
      "Requirement already satisfied: kiwisolver>=1.3.1 in /home/javier/Documents/GitRepo/UCA/MyS/venvmys/lib/python3.10/site-packages (from matplotlib) (1.4.9)\n",
      "Requirement already satisfied: numpy>=1.23 in /home/javier/Documents/GitRepo/UCA/MyS/venvmys/lib/python3.10/site-packages (from matplotlib) (2.2.6)\n",
      "Requirement already satisfied: packaging>=20.0 in /home/javier/Documents/GitRepo/UCA/MyS/venvmys/lib/python3.10/site-packages (from matplotlib) (25.0)\n",
      "Requirement already satisfied: pillow>=8 in /home/javier/Documents/GitRepo/UCA/MyS/venvmys/lib/python3.10/site-packages (from matplotlib) (11.3.0)\n",
      "Requirement already satisfied: pyparsing>=2.3.1 in /home/javier/Documents/GitRepo/UCA/MyS/venvmys/lib/python3.10/site-packages (from matplotlib) (3.2.3)\n",
      "Requirement already satisfied: python-dateutil>=2.7 in /home/javier/Documents/GitRepo/UCA/MyS/venvmys/lib/python3.10/site-packages (from matplotlib) (2.9.0.post0)\n",
      "Requirement already satisfied: six>=1.5 in /home/javier/Documents/GitRepo/UCA/MyS/venvmys/lib/python3.10/site-packages (from python-dateutil>=2.7->matplotlib) (1.17.0)\n",
      "Note: you may need to restart the kernel to use updated packages.\n",
      "Requirement already satisfied: numpy in /home/javier/Documents/GitRepo/UCA/MyS/venvmys/lib/python3.10/site-packages (2.2.6)\n",
      "Note: you may need to restart the kernel to use updated packages.\n",
      "Requirement already satisfied: scipy in /home/javier/Documents/GitRepo/UCA/MyS/venvmys/lib/python3.10/site-packages (1.15.3)\n",
      "Requirement already satisfied: numpy<2.5,>=1.23.5 in /home/javier/Documents/GitRepo/UCA/MyS/venvmys/lib/python3.10/site-packages (from scipy) (2.2.6)\n",
      "Note: you may need to restart the kernel to use updated packages.\n"
     ]
    }
   ],
   "source": [
    "!which python\n",
    "%pip install pandas\n",
    "%pip install matplotlib\n",
    "%pip install numpy    \n",
    "%pip install scipy"
   ]
  },
  {
   "cell_type": "markdown",
   "id": "cffe8e8b-b73d-4560-8daf-6024a44648f8",
   "metadata": {},
   "source": [
    "### Módulo de utilidades estadísticas para medias. \n",
    "Funciones para pruebas de hipótesis sobre medias (Z y t), intervalos de confianza y potencia aproximada.  \n",
    "\n",
    "##### Cuantil de la normal: inv_norm_cdf(p) \n",
    "\n",
    "Devuelve z tal que Φ(z)=p (inversa de la CDF normal estándar). Se usa para obtener críticos Z.   \n",
    "$\\Phi(z)=\\frac{1}{\\sqrt{2\\pi}}\\int_{-\\infty}^{z} e^{-t^2/2}\\,dt,\n",
    "\\qquad z = \\Phi^{-1}(p)$.   \n",
    "\n",
    "##### Valor Crítico Z bilateral: z_crit(alpha_two_sided=0.05)   \n",
    "\n",
    "Devuelve z1−α/2. Para α=0.05, z0.975≈1.96z  \n",
    "$z_{\\text{crit}} = z_{1-\\alpha/2}.$\n",
    "\n",
    "##### Valor Crítico t aproximado: tcrit_approx_two_sided(df, alpha=0.05)\n",
    "\n",
    "- Si α=0.05 y los grados de libertad ν=df están en la tabla incluida, devuelve t1−α/2, ν\n",
    "- Si no está, toma el df más cercano.\n",
    "- Si α≠0.05, hace fallback a z1−α/2 (aproximación).   \n",
    "$t_{\\text{crit}} \\approx t_{1-\\alpha/2,\\ \\nu}\n",
    "\\quad\\text{(o bien)}\\quad\n",
    "t_{\\text{crit}} \\approx z_{1-\\alpha/2}\\ \\text{si no hay tabla para }\\alpha$.\n",
    "\n",
    "##### IC para la media con σ desconocida: ci_mean_unknown_sigma(xbar, s, n, alpha)\n",
    "\n",
    "Devuelve (LI,LS,tcrit) del intervalo t.\n",
    "\n",
    "$\\text{IC}_{1-\\alpha}(\\mu):\\ \\ \n",
    "\\bar{X} \\pm t_{1-\\alpha/2,\\ n-1}\\,\\frac{s}{\\sqrt{n}},\n",
    "\\qquad\n",
    "\\text{semi-ancho} = t_{1-\\alpha/2,\\ n-1}\\,\\frac{s}{\\sqrt{n}}$.\n",
    "##### Estadístico de prueba t: t_statistic(xbar, mu0, s, n)\n",
    "\n",
    "Calcula el t de Student para contrastar H0:μ=μ0 con σ desconocida.\n",
    "\n",
    "$t = \\frac{\\bar{X} - \\mu_0}{s/\\sqrt{n}}, \n",
    "\\qquad t \\sim t_{n-1}\\ \\ \\text{bajo }H_0$.\n",
    "##### Potencia aproximada (bilateral, normal): approx_power_two_sided(mu0, mu1, s, n, alpha)\n",
    "\n",
    "Aproxima la potencia usando normal (no t no-central). Define el tamaño de efecto estandarizado\n",
    "\n",
    "$\\Delta = \\frac{\\mu_1 - \\mu_0}{s/\\sqrt{n}}, \n",
    "\\qquad z_c = z_{1-\\alpha/2}$.   \n",
    "y usa   \n",
    "$\\text{Potencia} \\approx \n",
    "\\big[1-\\Phi(z_c - \\Delta)\\big] + \\Phi(-z_c - \\Delta)$.\n",
    "\n",
    "##### Se llama valor crítico porque es el valor del estadístico de prueba (Z, t, χ², F, etc.) que marca la frontera entre la región de aceptación y la región de rechazo de la hipótesis nula.\n",
    "- Si el estadístico calculado es mayor (en valor absoluto) que el valor crítico, caemos en la región de rechazo → se rechaza H0.\n",
    "- Si es menor, no se rechaza H0."
   ]
  },
  {
   "cell_type": "code",
   "execution_count": 13,
   "id": "fb01b9f2",
   "metadata": {},
   "outputs": [],
   "source": [
    "import math, statistics, random\n",
    "from statistics import mean, stdev\n",
    "\n",
    "def inv_norm_cdf(p):\n",
    "    if p <= 0.0 or p >= 1.0:\n",
    "        raise ValueError(\"p must be in (0,1)\")\n",
    "    a = [-3.969683028665376e+01,  2.209460984245205e+02,\n",
    "         -2.759285104469687e+02,  1.383577518672690e+02,\n",
    "         -3.066479806614716e+01,  2.506628277459239e+00]\n",
    "    b = [-5.447609879822406e+01,  1.615858368580409e+02,\n",
    "         -1.556989798598866e+02,  6.680131188771972e+01,\n",
    "         -1.328068155288572e+01]\n",
    "    c = [-7.784894002430293e-03, -3.223964580411365e-01,\n",
    "         -2.400758277161838e+00, -2.549732539343734e+00,\n",
    "          4.374664141464968e+00,  2.938163982698783e+00]\n",
    "    d = [ 7.784695709041462e-03,  3.224671290700398e-01,\n",
    "          2.445134137142996e+00,  3.754408661907416e+00]\n",
    "    plow = 0.02425\n",
    "    phigh = 1 - plow\n",
    "    if p < plow:\n",
    "        q = math.sqrt(-2*math.log(p))\n",
    "        return (((((c[0]*q + c[1])*q + c[2])*q + c[3])*q + c[4])*q + c[5]) / \\\n",
    "               ((((d[0]*q + d[1])*q + d[2])*q + d[3])*q + 1)\n",
    "    if phigh < p:\n",
    "        q = math.sqrt(-2*math.log(1-p))\n",
    "        return -(((((c[0]*q + c[1])*q + c[2])*q + c[3])*q + c[4])*q + c[5]) / \\\n",
    "                 ((((d[0]*q + d[1])*q + d[2])*q + d[3])*q + 1)\n",
    "    q = p - 0.5\n",
    "    r = q*q\n",
    "    a0 = (((((a[0]*r + a[1])*r + a[2])*r + a[3])*r + a[4])*r + a[5])\n",
    "    b0 = (((((b[0]*r + b[1])*r + b[2])*r + b[3])*r + b[4])*r + 1)\n",
    "    return (a0*q) / b0\n",
    "\n",
    "def z_crit(alpha_two_sided=0.05):\n",
    "    return abs(inv_norm_cdf(1 - alpha_two_sided/2))\n",
    "\n",
    "t_crit_table_95 = {\n",
    "    1:12.706, 2:4.303, 3:3.182, 4:2.776, 5:2.571, 6:2.447, 7:2.365, 8:2.306,\n",
    "    9:2.262, 10:2.228, 11:2.201, 12:2.179, 13:2.160, 14:2.145, 15:2.131,\n",
    "    16:2.120, 17:2.110, 18:2.101, 19:2.093, 20:2.086, 21:2.080, 22:2.074,\n",
    "    23:2.069, 24:2.064, 25:2.060, 26:2.056, 27:2.052, 28:2.048, 29:2.045,\n",
    "    30:2.042, 40:2.021, 60:2.000, 120:1.980\n",
    "}\n",
    "\n",
    "def tcrit_approx_two_sided(df, alpha=0.05):\n",
    "    if df in t_crit_table_95 and abs(alpha-0.05) < 1e-9:\n",
    "        return t_crit_table_95[df]\n",
    "    nearest = min(t_crit_table_95.keys(), key=lambda k: abs(k-df))\n",
    "    if abs(alpha-0.05) < 1e-9:\n",
    "        return t_crit_table_95[nearest]\n",
    "    return z_crit(alpha)\n",
    "\n",
    "def ci_mean_unknown_sigma(xbar, s, n, alpha=0.05):\n",
    "    df = n-1\n",
    "    tcrit = tcrit_approx_two_sided(df, alpha)\n",
    "    half = tcrit * (s / math.sqrt(n))\n",
    "    return (xbar - half, xbar + half, tcrit)\n",
    "\n",
    "def t_statistic(xbar, mu0, s, n):\n",
    "    return (xbar - mu0) / (s / math.sqrt(n))\n",
    "\n",
    "def approx_power_two_sided(mu0, mu1, s, n, alpha=0.05):\n",
    "    zc = z_crit(alpha)\n",
    "    Delta = (mu1 - mu0) / (s / math.sqrt(n))\n",
    "    from math import erf, sqrt\n",
    "    def Phi(z):\n",
    "        return 0.5*(1 + erf(z/math.sqrt(2)))\n",
    "    power = (1 - Phi(zc - Delta)) + Phi(-zc - Delta)\n",
    "    return power\n",
    "\n"
   ]
  },
  {
   "cell_type": "markdown",
   "id": "3be8fda3-82cd-457e-8485-67a1f1eb87d8",
   "metadata": {},
   "source": [
    "### Inferencia estadística aplicada a steel frame (perfiles y paneles):    \n",
    "- Espesores, resistencia, recubrimiento de zinc, U-value, proveedor y lote."
   ]
  },
  {
   "cell_type": "markdown",
   "id": "593db046-3d94-4bee-9528-036ad4f38f71",
   "metadata": {},
   "source": [
    "### Fórmulas \n",
    "\n",
    "- Media muestral: $(\\overline{x}=\\frac{1}{n}\\sum_{i=1}^n x_i)$\n",
    "- Varianza muestral: $(s^2=\\frac{1}{n-1}\\sum_{i=1}^n (x_i-\\overline{x})^2)$\n",
    "- IC para media: $(\\overline{x} \\pm t_{\\alpha/2,\\ n-1}\\ \\frac{s}{\\sqrt{n}})$\n",
    "- t de 1 muestra: $(t=\\frac{\\overline{x}-\\mu_0}{s/\\sqrt{n}})$\n",
    "- t de 2 muestras (var. desiguales): $(t=\\frac{\\overline{x}_1-\\overline{x}_2}{\\sqrt{\\frac{s_1^2}{n_1}+\\frac{s_2^2}{n_2}}}$)"
   ]
  },
  {
   "cell_type": "code",
   "execution_count": 22,
   "id": "e7f2c491-d48c-4e08-b87f-b7058586f2eb",
   "metadata": {},
   "outputs": [
    {
     "name": "stdout",
     "output_type": "stream",
     "text": [
      "CSV generado con 240 registros en: steelframe_inferencia_dataset.csv\n"
     ]
    }
   ],
   "source": [
    "# === Generar dataset de Steel Frame y guardar CSV en el mismo directorio ===\n",
    "import numpy as np\n",
    "import pandas as pd\n",
    "from pathlib import Path\n",
    "\n",
    "def generar_dataset_csv(salida_path: Path):\n",
    "    rng = np.random.default_rng(42)  # Generador aleatorio reproducible\n",
    "    n = 240  # Cantidad de registros\n",
    "\n",
    "    # Proveedor\n",
    "    proveedor = rng.choice(['A', 'B'], size=n, p=[0.55, 0.45])\n",
    "\n",
    "    # Medias y desviaciones estándar para el espesor según proveedor\n",
    "    media_A, media_B = 0.90, 0.88\n",
    "    desv_A, desv_B = 0.06, 0.07\n",
    "\n",
    "    # Espesor de perfiles (mm)\n",
    "    espesor = np.where(\n",
    "        proveedor == 'A',\n",
    "        rng.normal(media_A, desv_A, size=n),\n",
    "        rng.normal(media_B, desv_B, size=n)\n",
    "    )\n",
    "    espesor = np.clip(espesor, 0.70, 1.10)  # limitar valores\n",
    "\n",
    "    # Resistencia a la fluencia (MPa)\n",
    "    resistencia_fluencia = 230 + 80*(espesor - 0.85) + rng.normal(0, 12, size=n)\n",
    "\n",
    "    # Recubrimiento de zinc (g/m²)\n",
    "    recubrimiento = np.where(\n",
    "        proveedor == 'A',\n",
    "        rng.normal(220, 18, size=n),\n",
    "        rng.normal(210, 20, size=n)\n",
    "    )\n",
    "    recubrimiento = np.clip(recubrimiento, 160, 280)\n",
    "\n",
    "    # Valor U base y penalización por puente térmico\n",
    "    U_base = 0.35 - 0.06*(espesor - 0.85) + rng.normal(0, 0.015, size=n)\n",
    "    penalizacion_puente = np.where(proveedor == 'A', 0.012, 0.015)\n",
    "    valor_U = np.clip(U_base + penalizacion_puente, 0.18, 0.55)\n",
    "\n",
    "    # Cumple requisito de U\n",
    "    cumple_U = (valor_U <= 0.40)\n",
    "\n",
    "    # Lotes y códigos de panel\n",
    "    lote = rng.integers(1001, 1012, size=n)\n",
    "    id_panel = [f\"P{b}-{i:03d}\" for b, i in zip(lote, rng.integers(1, 160, size=n))]\n",
    "\n",
    "    # Crear DataFrame\n",
    "    df = pd.DataFrame({\n",
    "        \"id_panel\": id_panel,\n",
    "        \"proveedor\": proveedor,\n",
    "        \"lote\": lote,\n",
    "        \"espesor_mm\": np.round(espesor, 3),\n",
    "        \"resistencia_fluencia_MPa\": np.round(resistencia_fluencia, 1),\n",
    "        \"recubrimiento_zinc_g_m2\": np.round(recubrimiento, 0),\n",
    "        \"U_W_m2K\": np.round(valor_U, 3),\n",
    "        \"cumple_requisito_U\": cumple_U\n",
    "    })\n",
    "\n",
    "    # Guardar CSV\n",
    "    df.to_csv(salida_path, index=False)\n",
    "    return df\n",
    "\n",
    "if __name__ == \"__main__\":\n",
    "    # Directorio del script y ruta del CSV en el mismo directorio\n",
    "    csv_path = Path(\"steelframe_inferencia_dataset.csv\")  # guarda en la carpeta actual del notebook\n",
    "\n",
    "    df = generar_dataset_csv(csv_path)\n",
    "    print(f\"CSV generado con {len(df)} registros en: {csv_path}\")\n"
   ]
  },
  {
   "cell_type": "markdown",
   "id": "04ff79aa-d329-4f6b-ac8d-e8918dd6a8f8",
   "metadata": {},
   "source": [
    "#### Estimación puntual — Espesor (mm)"
   ]
  },
  {
   "cell_type": "code",
   "execution_count": 23,
   "id": "cc0423d2-7c8d-4286-8ea8-ea8c45619574",
   "metadata": {},
   "outputs": [
    {
     "data": {
      "text/plain": [
       "(240, np.float64(0.8863083333333334), np.float64(0.07090754140550173))"
      ]
     },
     "execution_count": 23,
     "metadata": {},
     "output_type": "execute_result"
    }
   ],
   "source": [
    "\n",
    "x = df[\"espesor_mm\"].dropna()\n",
    "n = x.size\n",
    "x_mean = x.mean()\n",
    "x_std = x.std(ddof=1)\n",
    "n, x_mean, x_std\n"
   ]
  },
  {
   "cell_type": "code",
   "execution_count": 24,
   "id": "dfcd24ec-9c71-425c-bea3-ebf597644988",
   "metadata": {},
   "outputs": [
    {
     "data": {
      "image/png": "[encoded data removed]",
      "text/plain": [
       "<Figure size 640x480 with 1 Axes>"
      ]
     },
     "metadata": {},
     "output_type": "display_data"
    }
   ],
   "source": [
    "\n",
    "import matplotlib.pyplot as plt\n",
    "\n",
    "plt.hist(x, bins=20)\n",
    "plt.title(\"Histograma de espesor (mm)\")\n",
    "plt.xlabel(\"Espesor (mm)\")\n",
    "plt.ylabel(\"Frecuencia\")\n",
    "plt.show()\n"
   ]
  },
  {
   "cell_type": "markdown",
   "id": "d56e2b67-5d47-45f8-88c3-3babe9afcc3c",
   "metadata": {},
   "source": [
    "#### Intervalo de confianza para la media de espesor (95%)"
   ]
  },
  {
   "cell_type": "code",
   "execution_count": 25,
   "id": "e2c4a726-d73e-4ea3-a73b-6a69016243cf",
   "metadata": {},
   "outputs": [
    {
     "data": {
      "text/plain": [
       "(np.float64(0.877291798306911), np.float64(0.8953248683597558))"
      ]
     },
     "execution_count": 25,
     "metadata": {},
     "output_type": "execute_result"
    }
   ],
   "source": [
    "\n",
    "from scipy import stats\n",
    "alpha = 0.05\n",
    "t_crit = stats.t.ppf(1 - alpha/2, df=n-1)\n",
    "moe = t_crit * x_std/np.sqrt(n)\n",
    "(x_mean - moe, x_mean + moe)\n"
   ]
  },
  {
   "cell_type": "markdown",
   "id": "ae7471f5-4f73-4de5-9ffd-2e0e4f719aca",
   "metadata": {},
   "source": [
    "#### Prueba t de 1 muestra — Espesor nominal"
   ]
  },
  {
   "cell_type": "code",
   "execution_count": 9,
   "id": "664b126a-0cf9-4d1d-a30f-8206c6423b4e",
   "metadata": {},
   "outputs": [
    {
     "data": {
      "text/plain": [
       "(np.float64(7.932672183590164), np.float64(4.124860399781991e-14))"
      ]
     },
     "execution_count": 9,
     "metadata": {},
     "output_type": "execute_result"
    }
   ],
   "source": [
    "\n",
    "mu0 = 0.85\n",
    "t_stat, p_one_sided = stats.ttest_1samp(x, popmean=mu0, alternative=\"greater\")\n",
    "t_stat, p_one_sided\n"
   ]
  },
  {
   "cell_type": "markdown",
   "id": "0aafbd7d-359a-4e86-9b8a-6525ec04893f",
   "metadata": {},
   "source": [
    "### Ejercicio 1 — Estimación puntual (espesor de perfiles)\n",
    "- Objetivo: Estimar el espesor promedio de los perfiles (μ espesor) y su variabilidad usando la media muestral.\n",
    "- Pasos: Calcular x y s de espesor_mm.\n",
    "- Interpretar resultados (tolerancias del proyecto).\n",
    "- Usamos la media muestral x‾ como estimador insesgado de μ.\n",
    "- $\\overline{x} = \\frac{1}{n} \\sum_{i=1}^n x_i$\n"
   ]
  },
  {
   "cell_type": "code",
   "execution_count": 28,
   "id": "89482b93-b07f-4427-a45f-9194ca5da99e",
   "metadata": {},
   "outputs": [
    {
     "data": {
      "text/plain": [
       "(240, np.float64(0.8863083333333334), np.float64(0.07090754140550173))"
      ]
     },
     "execution_count": 28,
     "metadata": {},
     "output_type": "execute_result"
    }
   ],
   "source": [
    "import pandas as pd\n",
    "\n",
    "# Cargar datos\n",
    "df = pd.read_csv(\"steelframe_inferencia_dataset.csv\")\n",
    "\n",
    "# Seleccionar columna de espesor\n",
    "espesor = df[\"espesor_mm\"]\n",
    "\n",
    "# Calcular estadísticos\n",
    "n = espesor.size\n",
    "media_espesor = espesor.mean()\n",
    "desv_espesor = espesor.std(ddof=1)\n",
    "\n",
    "n, media_espesor, desv_espesor\n"
   ]
  },
  {
   "cell_type": "markdown",
   "id": "e7fafdc1-fb87-4585-8514-587287bbf7ea",
   "metadata": {},
   "source": [
    "### Ejercicio 2 — intervalo de confianza (IC) para la media de espesor\n",
    "- Calcular un rango de valores que, con cierto nivel de confianza (95%), contenga el valor verdadero de \n",
    "μ.\n",
    "- El IC incorpora la variabilidad muestral y la incertidumbre de estimación.\n",
    "- Con σ desconocida, se usa la distribución t de Student.\n",
    "- $\\overline{x} \\pm t_{\\alpha/2,\\,n-1} \\cdot \\frac{s}{\\sqrt{n}}$\n"
   ]
  },
  {
   "cell_type": "code",
   "execution_count": 29,
   "id": "ad6be01f-a45e-412d-b963-b4405d5dfe97",
   "metadata": {},
   "outputs": [
    {
     "data": {
      "text/plain": [
       "(np.float64(0.877291798306911), np.float64(0.8953248683597558))"
      ]
     },
     "execution_count": 29,
     "metadata": {},
     "output_type": "execute_result"
    }
   ],
   "source": [
    "import numpy as np\n",
    "from scipy import stats\n",
    "\n",
    "nivel_signif = 0.05\n",
    "t_critico = stats.t.ppf(1 - nivel_signif/2, df=n-1)\n",
    "margen_error = t_critico * desv_espesor / np.sqrt(n)\n",
    "\n",
    "(ic_inferior, ic_superior) = (media_espesor - margen_error, media_espesor + margen_error)\n",
    "ic_inferior, ic_superior\n"
   ]
  },
  {
   "cell_type": "markdown",
   "id": "d4a0fd77-4969-4fb8-9147-9dadb8c1cfdb",
   "metadata": {},
   "source": [
    "### Ejercicio 3 — Prueba t de 1 muestra\n",
    "- Verificar si el espesor medio difiere (o es mayor) que un valor nominal μ0.\n",
    "- Hipótesis nula H0:μ=μ0\n",
    "- Hipótesis alternativa H1:μ>μ0\n",
    "- Se calcula un estadístico t y se compara con un valor crítico o p-valor.\n",
    "- $t = \\frac{\\overline{x} - \\mu_0}{s / \\sqrt{n}}$\n"
   ]
  },
  {
   "cell_type": "code",
   "execution_count": 30,
   "id": "8e8ab662-91eb-4a2e-83b1-742028d79754",
   "metadata": {},
   "outputs": [
    {
     "data": {
      "text/plain": [
       "(np.float64(7.932672183590164), np.float64(4.124860399781991e-14))"
      ]
     },
     "execution_count": 30,
     "metadata": {},
     "output_type": "execute_result"
    }
   ],
   "source": [
    "espesor_nominal = 0.85\n",
    "estad_t, p_valor_unilateral = stats.ttest_1samp(\n",
    "    espesor, popmean=espesor_nominal, alternative=\"greater\"\n",
    ")\n",
    "estad_t, p_valor_unilateral\n"
   ]
  },
  {
   "cell_type": "markdown",
   "id": "275eebbf-e1b8-4104-bdc0-8d721ef74fd1",
   "metadata": {},
   "source": [
    "### Ejercicio 4 — Prueba t de 2 muestras (espesor A vs B)\n",
    "- Determinar si el espesor promedio de perfiles del proveedor A es mayor que el del proveedor B.\n",
    "- Hipótesis nula H0:μA=μB\n",
    "- Hipótesis alternativa H1:μA>μB\n",
    "- Se usa t para muestras independientes con varianzas desiguales.\n",
    "- $t = \\frac{\\overline{x}_A - \\overline{x}_B}{\\sqrt{\\frac{s_A^2}{n_A} + \\frac{s_B^2}{n_B}}}$\n"
   ]
  },
  {
   "cell_type": "code",
   "execution_count": 32,
   "id": "aa122a69-1c68-4276-a573-ba062fae9ecc",
   "metadata": {},
   "outputs": [
    {
     "data": {
      "text/plain": [
       "TtestResult(statistic=np.float64(2.3936148504363874), pvalue=np.float64(0.008768271229311286), df=np.float64(216.47048126112196))"
      ]
     },
     "execution_count": 32,
     "metadata": {},
     "output_type": "execute_result"
    }
   ],
   "source": [
    "espesor_A = df.loc[df[\"proveedor\"]==\"A\", \"espesor_mm\"]\n",
    "espesor_B = df.loc[df[\"proveedor\"]==\"B\", \"espesor_mm\"]\n",
    "\n",
    "resultado_t = stats.ttest_ind(espesor_A, espesor_B, equal_var=False, alternative=\"greater\")\n",
    "resultado_t\n"
   ]
  },
  {
   "cell_type": "markdown",
   "id": "85d2ae82-372e-4c22-836d-c7d4f3160231",
   "metadata": {},
   "source": [
    "### Ejercicio 5 — Intervalo y prueba para el U-value\n",
    "- Calcular el IC de la media de U (transmitancia térmica).\n",
    "- Verificar si es menor o igual al valor límite normativo (0.40 W/m²K).\n",
    "- U bajo indica mejor aislamiento.\n",
    "- Comparación con valor objetivo usando t de 1 muestra (cola izquierda).\n",
    "- $IC: \\quad \\overline{U} \\pm t_{\\alpha/2,\\,n-1} \\cdot \\frac{s_U}{\\sqrt{n}}$\n",
    "- $t = \\frac{\\overline{U} - U_0}{s_U / \\sqrt{n}}$\n"
   ]
  },
  {
   "cell_type": "code",
   "execution_count": 33,
   "id": "8e06e87a-1a29-46d0-abf7-db6f59dff742",
   "metadata": {},
   "outputs": [
    {
     "data": {
      "text/plain": [
       "np.float64(0.3138056230354632)"
      ]
     },
     "execution_count": 33,
     "metadata": {},
     "output_type": "execute_result"
    }
   ],
   "source": [
    "def d_cohen(a, b):\n",
    "    var_a, var_b = a.var(ddof=1), b.var(ddof=1)\n",
    "    desv_pooled = np.sqrt(((a.size-1)*var_a + (b.size-1)*var_b) / (a.size+b.size-2))\n",
    "    return (a.mean() - b.mean()) / desv_pooled\n",
    "\n",
    "d_cohen(espesor_A, espesor_B)\n"
   ]
  },
  {
   "cell_type": "code",
   "execution_count": 34,
   "id": "4cc1fa02-4847-44a3-9ddf-0acb3fff9975",
   "metadata": {},
   "outputs": [
    {
     "data": {
      "text/plain": [
       "((np.float64(0.3575171860790855), np.float64(0.36168281392091456)),\n",
       " (np.float64(-38.21059154629767), np.float64(4.4958918804580227e-104)))"
      ]
     },
     "execution_count": 34,
     "metadata": {},
     "output_type": "execute_result"
    }
   ],
   "source": [
    "U = df[\"U_W_m2K\"]\n",
    "n_U = U.size\n",
    "media_U = U.mean()\n",
    "desv_U = U.std(ddof=1)\n",
    "\n",
    "t_critico_U = stats.t.ppf(0.975, df=n_U-1)\n",
    "ic_U = (media_U - t_critico_U*desv_U/np.sqrt(n_U),\n",
    "        media_U + t_critico_U*desv_U/np.sqrt(n_U))\n",
    "\n",
    "estad_t_U, p_valor_izquierda = stats.ttest_1samp(U, popmean=0.40, alternative=\"less\")\n",
    "ic_U, (estad_t_U, p_valor_izquierda)\n"
   ]
  },
  {
   "cell_type": "markdown",
   "id": "89f6e734-9fdb-42a4-988b-8bf4ca721bd7",
   "metadata": {},
   "source": [
    "### Ejercicio 6 — Comparar U entre proveedor A y B\n",
    "- Evaluar si los paneles de A tienen menor U (mejor aislamiento) que los de B.\n",
    "- Hipótesis similar a la del espesor pero buscando diferencia negativa.\n",
    "- $t = \\frac{\\overline{U}_A - \\overline{U}_B}{\\sqrt{\\frac{s_{U,A}^2}{n_A} + \\frac{s_{U,B}^2}{n_B}}}$\n"
   ]
  },
  {
   "cell_type": "code",
   "execution_count": 36,
   "id": "1f041ae7-f283-4a14-a9b3-d8a1c08d59ac",
   "metadata": {},
   "outputs": [
    {
     "data": {
      "text/plain": [
       "TtestResult(statistic=np.float64(-2.2936573173031305), pvalue=np.float64(0.011349807422646019), df=np.float64(233.43251724125253))"
      ]
     },
     "execution_count": 36,
     "metadata": {},
     "output_type": "execute_result"
    }
   ],
   "source": [
    "U_A = df.loc[df[\"proveedor\"]==\"A\", \"U_W_m2K\"]\n",
    "U_B = df.loc[df[\"proveedor\"]==\"B\", \"U_W_m2K\"]\n",
    "\n",
    "stats.ttest_ind(U_A, U_B, equal_var=False, alternative=\"less\")\n"
   ]
  },
  {
   "cell_type": "markdown",
   "id": "e8a756b2-a60a-4b96-b516-c01eb3c35627",
   "metadata": {},
   "source": [
    "### Ejercicio 7 — Simulación de errores Tipo I y II\n",
    "- Estimar el riesgo de rechazar H0 siendo verdadera (Tipo I).\n",
    "- Estimar el riesgo de no rechazar H0 siendo falsa (Tipo II) y la potencia 1−β.\n",
    "- Error Tipo I: α=P(rechazar H0∣H0 verdadera)\n",
    "- Error Tipo II: β=P(no rechazar H0∣H0 falsa)\n",
    "- Potencia: 1−β\n",
    "- $\\alpha = P(\\text{rechazar } H_0 | H_0 \\ \\text{verdadera})$\n",
    "- $\\beta = P(\\text{no rechazar } H_0 | H_0 \\ \\text{falsa})$\n",
    "- $\\text{Potencia} = 1 - \\beta$\n"
   ]
  },
  {
   "cell_type": "code",
   "execution_count": 37,
   "id": "85381180-19ca-415d-8144-c2bc1b0708af",
   "metadata": {},
   "outputs": [
    {
     "data": {
      "text/plain": [
       "(0.0497, 0.7427, 0.2573)"
      ]
     },
     "execution_count": 37,
     "metadata": {},
     "output_type": "execute_result"
    }
   ],
   "source": [
    "def tasa_rechazo(media_real, sigma, n_muestra=30, media_hipotesis=0.85, alfa=0.05, repeticiones=10000):\n",
    "    rechazos = 0\n",
    "    for _ in range(repeticiones):\n",
    "        muestra = np.random.normal(media_real, sigma, size=n_muestra)\n",
    "        estad_t, p_valor = stats.ttest_1samp(muestra, popmean=media_hipotesis, alternative=\"greater\")\n",
    "        if p_valor < alfa:\n",
    "            rechazos += 1\n",
    "    return rechazos / repeticiones\n",
    "\n",
    "# Tipo I (H0 verdadera)\n",
    "alfa_estimado = tasa_rechazo(media_real=0.85, sigma=0.07, n_muestra=30)\n",
    "\n",
    "# Potencia (1 - Tipo II)\n",
    "potencia_estimado = tasa_rechazo(media_real=0.88, sigma=0.07, n_muestra=30)\n",
    "\n",
    "beta_estimado = 1 - potencia_estimado\n",
    "\n",
    "alfa_estimado, potencia_estimado, beta_estimado\n"
   ]
  },
  {
   "cell_type": "markdown",
   "id": "74fba50c-7608-46b5-8ed9-744672363edf",
   "metadata": {},
   "source": [
    "### Ejercicio 8 — Cálculo del tamaño muestral\n",
    "- Determinar n necesario para detectar una diferencia Δ  con potencia y α dadas.\n",
    "- Basado en aproximación normal a la t.\n",
    "- Relaciona tamaño de efecto, variabilidad y error tolerado.\n",
    "- $n \\approx \\left( \\frac{z_{1-\\alpha} + z_{1-\\beta}}{\\Delta / \\sigma} \\right)^2$\n"
   ]
  },
  {
   "cell_type": "code",
   "execution_count": 38,
   "id": "22c7343b-9680-4d75-a73e-dac62140cd5c",
   "metadata": {},
   "outputs": [
    {
     "data": {
      "text/plain": [
       "np.float64(34.0)"
      ]
     },
     "execution_count": 38,
     "metadata": {},
     "output_type": "execute_result"
    }
   ],
   "source": [
    "from scipy.stats import norm\n",
    "\n",
    "sigma = 0.07\n",
    "alfa = 0.05\n",
    "potencia_deseada = 0.80\n",
    "diferencia = 0.03  # Δ\n",
    "\n",
    "z_alfa = norm.ppf(1 - alfa)      # unilateral\n",
    "z_beta = norm.ppf(potencia_deseada)\n",
    "\n",
    "n_necesario = ((z_alfa + z_beta) * sigma / diferencia) ** 2\n",
    "np.ceil(n_necesario)\n"
   ]
  },
  {
   "cell_type": "markdown",
   "id": "d9f92f92-1878-4cca-a252-c9d069ef9281",
   "metadata": {},
   "source": [
    "### Ejercicio 9 — Control de calidad por lotes\n",
    "- Calcular IC de espesor por lote y marcar los que no cumplen tolerancia mínima.\n",
    "- IC por subgrupos.\n",
    "- Decisión binaria basada en límite inferior.\n",
    "- $IC_{lote} = \\overline{x}_{lote} \\pm t_{\\alpha/2,\\,n_{lote}-1} \\cdot \\frac{s_{lote}}{\\sqrt{n_{lote}}}$\n"
   ]
  },
  {
   "cell_type": "code",
   "execution_count": 42,
   "id": "bbf2766e-8f0a-434c-a798-6b08bca6669d",
   "metadata": {},
   "outputs": [
    {
     "data": {
      "text/html": [
       "<div>\n",
       "<style scoped>\n",
       "    .dataframe tbody tr th:only-of-type {\n",
       "        vertical-align: middle;\n",
       "    }\n",
       "\n",
       "    .dataframe tbody tr th {\n",
       "        vertical-align: top;\n",
       "    }\n",
       "\n",
       "    .dataframe thead th {\n",
       "        text-align: right;\n",
       "    }\n",
       "</style>\n",
       "<table border=\"1\" class=\"dataframe\">\n",
       "  <thead>\n",
       "    <tr style=\"text-align: right;\">\n",
       "      <th></th>\n",
       "      <th>lote</th>\n",
       "      <th>n</th>\n",
       "      <th>media</th>\n",
       "      <th>desv</th>\n",
       "      <th>ic_inferior</th>\n",
       "      <th>ic_superior</th>\n",
       "      <th>no_cumple</th>\n",
       "    </tr>\n",
       "  </thead>\n",
       "  <tbody>\n",
       "    <tr>\n",
       "      <th>4</th>\n",
       "      <td>1005</td>\n",
       "      <td>24</td>\n",
       "      <td>0.850917</td>\n",
       "      <td>0.077508</td>\n",
       "      <td>0.818188</td>\n",
       "      <td>0.883646</td>\n",
       "      <td>True</td>\n",
       "    </tr>\n",
       "    <tr>\n",
       "      <th>9</th>\n",
       "      <td>1010</td>\n",
       "      <td>21</td>\n",
       "      <td>0.881762</td>\n",
       "      <td>0.083131</td>\n",
       "      <td>0.843921</td>\n",
       "      <td>0.919602</td>\n",
       "      <td>False</td>\n",
       "    </tr>\n",
       "    <tr>\n",
       "      <th>10</th>\n",
       "      <td>1011</td>\n",
       "      <td>24</td>\n",
       "      <td>0.883250</td>\n",
       "      <td>0.089067</td>\n",
       "      <td>0.845640</td>\n",
       "      <td>0.920860</td>\n",
       "      <td>False</td>\n",
       "    </tr>\n",
       "    <tr>\n",
       "      <th>5</th>\n",
       "      <td>1006</td>\n",
       "      <td>23</td>\n",
       "      <td>0.869000</td>\n",
       "      <td>0.051435</td>\n",
       "      <td>0.846758</td>\n",
       "      <td>0.891242</td>\n",
       "      <td>False</td>\n",
       "    </tr>\n",
       "    <tr>\n",
       "      <th>7</th>\n",
       "      <td>1008</td>\n",
       "      <td>19</td>\n",
       "      <td>0.883579</td>\n",
       "      <td>0.074509</td>\n",
       "      <td>0.847667</td>\n",
       "      <td>0.919491</td>\n",
       "      <td>False</td>\n",
       "    </tr>\n",
       "    <tr>\n",
       "      <th>1</th>\n",
       "      <td>1002</td>\n",
       "      <td>18</td>\n",
       "      <td>0.889667</td>\n",
       "      <td>0.068183</td>\n",
       "      <td>0.855760</td>\n",
       "      <td>0.923573</td>\n",
       "      <td>False</td>\n",
       "    </tr>\n",
       "    <tr>\n",
       "      <th>0</th>\n",
       "      <td>1001</td>\n",
       "      <td>24</td>\n",
       "      <td>0.884667</td>\n",
       "      <td>0.058123</td>\n",
       "      <td>0.860124</td>\n",
       "      <td>0.909210</td>\n",
       "      <td>False</td>\n",
       "    </tr>\n",
       "    <tr>\n",
       "      <th>3</th>\n",
       "      <td>1004</td>\n",
       "      <td>22</td>\n",
       "      <td>0.890364</td>\n",
       "      <td>0.062975</td>\n",
       "      <td>0.862442</td>\n",
       "      <td>0.918285</td>\n",
       "      <td>False</td>\n",
       "    </tr>\n",
       "    <tr>\n",
       "      <th>8</th>\n",
       "      <td>1009</td>\n",
       "      <td>23</td>\n",
       "      <td>0.899478</td>\n",
       "      <td>0.067497</td>\n",
       "      <td>0.870290</td>\n",
       "      <td>0.928666</td>\n",
       "      <td>False</td>\n",
       "    </tr>\n",
       "    <tr>\n",
       "      <th>6</th>\n",
       "      <td>1007</td>\n",
       "      <td>21</td>\n",
       "      <td>0.912000</td>\n",
       "      <td>0.069811</td>\n",
       "      <td>0.880222</td>\n",
       "      <td>0.943778</td>\n",
       "      <td>False</td>\n",
       "    </tr>\n",
       "  </tbody>\n",
       "</table>\n",
       "</div>"
      ],
      "text/plain": [
       "    lote   n     media      desv  ic_inferior  ic_superior  no_cumple\n",
       "4   1005  24  0.850917  0.077508     0.818188     0.883646       True\n",
       "9   1010  21  0.881762  0.083131     0.843921     0.919602      False\n",
       "10  1011  24  0.883250  0.089067     0.845640     0.920860      False\n",
       "5   1006  23  0.869000  0.051435     0.846758     0.891242      False\n",
       "7   1008  19  0.883579  0.074509     0.847667     0.919491      False\n",
       "1   1002  18  0.889667  0.068183     0.855760     0.923573      False\n",
       "0   1001  24  0.884667  0.058123     0.860124     0.909210      False\n",
       "3   1004  22  0.890364  0.062975     0.862442     0.918285      False\n",
       "8   1009  23  0.899478  0.067497     0.870290     0.928666      False\n",
       "6   1007  21  0.912000  0.069811     0.880222     0.943778      False"
      ]
     },
     "execution_count": 42,
     "metadata": {},
     "output_type": "execute_result"
    }
   ],
   "source": [
    "import numpy as np\n",
    "from scipy import stats\n",
    "\n",
    "alfa = 0.05\n",
    "\n",
    "# Agregamos por lote\n",
    "res = (df\n",
    "       .groupby(\"lote\", as_index=False)\n",
    "       .agg(n=(\"espesor_mm\", \"size\"),\n",
    "            media=(\"espesor_mm\", \"mean\"),\n",
    "            desv=(\"espesor_mm\", \"std\"))\n",
    "      )\n",
    "\n",
    "# t crítico por grupo (vectorizado); para n=1 la t no está definida -> ponemos NaN\n",
    "tcrit = stats.t.ppf(1 - alfa/2, df=res[\"n\"] - 1)\n",
    "\n",
    "# Márgen de error\n",
    "margen = tcrit * res[\"desv\"] / np.sqrt(res[\"n\"])\n",
    "\n",
    "# Columnas con IC (maneja NaN si n<2)\n",
    "res[\"ic_inferior\"] = res[\"media\"] - margen\n",
    "res[\"ic_superior\"] = res[\"media\"] + margen\n",
    "\n",
    "# Bandera de no cumplimiento (ajusta el umbral si quieres)\n",
    "res[\"no_cumple\"] = res[\"ic_inferior\"] < 0.82\n",
    "\n",
    "# Ordenar para ver primero los que no cumplen\n",
    "resultado_lotes = res.sort_values([\"no_cumple\", \"ic_inferior\"], ascending=[False, True])\n",
    "resultado_lotes.head(10)\n"
   ]
  },
  {
   "cell_type": "code",
   "execution_count": 43,
   "id": "e4122201-59fd-49e0-8537-bcb7bfd9f1fb",
   "metadata": {},
   "outputs": [
    {
     "name": "stdout",
     "output_type": "stream",
     "text": [
      "['lote', 'n', 'media', 'desv', 'ic_inferior', 'ic_superior', 'no_cumple']\n",
      "    lote   n     media      desv  ic_inferior  ic_superior  no_cumple\n",
      "4   1005  24  0.850917  0.077508     0.818188     0.883646       True\n",
      "9   1010  21  0.881762  0.083131     0.843921     0.919602      False\n",
      "10  1011  24  0.883250  0.089067     0.845640     0.920860      False\n",
      "5   1006  23  0.869000  0.051435     0.846758     0.891242      False\n",
      "7   1008  19  0.883579  0.074509     0.847667     0.919491      False\n"
     ]
    }
   ],
   "source": [
    "print(resultado_lotes.columns.tolist())\n",
    "print(resultado_lotes.head())\n"
   ]
  },
  {
   "cell_type": "markdown",
   "id": "90b7e34c-2c61-4947-b4e1-742ac3d1d0af",
   "metadata": {},
   "source": [
    "#### Ejercicio 10 — Informe breve\n",
    "\n",
    "- Media e IC del espesor.\n",
    "- Resultado y significado de la prueba t vs nominal.\n",
    "- Comparación A vs B en espesor y U.\n",
    "- Riesgos de errores Tipo I y II.\n",
    "- Recomendaciones para control de calidad."
   ]
  },
  {
   "cell_type": "code",
   "execution_count": null,
   "id": "8e9a6823-4b26-4f38-8ebb-22c678598907",
   "metadata": {},
   "outputs": [],
   "source": []
  }
 ],
 "metadata": {
  "kernelspec": {
   "display_name": "Python (venvmys)",
   "language": "python",
   "name": "venvmys"
  },
  "language_info": {
   "codemirror_mode": {
    "name": "ipython",
    "version": 3
   },
   "file_extension": ".py",
   "mimetype": "text/x-python",
   "name": "python",
   "nbconvert_exporter": "python",
   "pygments_lexer": "ipython3",
   "version": "3.10.12"
  }
 },
 "nbformat": 4,
 "nbformat_minor": 5
}
