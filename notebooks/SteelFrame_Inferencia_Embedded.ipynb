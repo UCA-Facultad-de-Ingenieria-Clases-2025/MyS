{
 "cells": [
  {
   "cell_type": "markdown",
   "id": "db7debb9",
   "metadata": {},
   "source": [
    "\n",
    "# Clase 1 — Introducción a la Inferencia Estadística (Aplicada a Steel Frame)\n",
    "\n",
    "**Temas**: Estimación puntual, intervalos de confianza, pruebas de hipótesis (t de Student), errores Tipo I y II, potencia, tamaño muestral.  \n",
    "**Contexto**: datos de perfiles y paneles (espesor, resistencia, recubrimiento, U-value).\n",
    "\n",
    "Este notebook **genera el dataset sintético internamente** para evitar problemas de descarga.  \n",
    "No es necesario un archivo externo.\n"
   ]
  },
  {
   "cell_type": "code",
   "execution_count": 3,
   "id": "03a09944",
   "metadata": {},
   "outputs": [
    {
     "data": {
      "text/html": [
       "<div>\n",
       "<style scoped>\n",
       "    .dataframe tbody tr th:only-of-type {\n",
       "        vertical-align: middle;\n",
       "    }\n",
       "\n",
       "    .dataframe tbody tr th {\n",
       "        vertical-align: top;\n",
       "    }\n",
       "\n",
       "    .dataframe thead th {\n",
       "        text-align: right;\n",
       "    }\n",
       "</style>\n",
       "<table border=\"1\" class=\"dataframe\">\n",
       "  <thead>\n",
       "    <tr style=\"text-align: right;\">\n",
       "      <th></th>\n",
       "      <th>panel_id</th>\n",
       "      <th>supplier</th>\n",
       "      <th>batch</th>\n",
       "      <th>thickness_mm</th>\n",
       "      <th>yield_strength_MPa</th>\n",
       "      <th>zinc_coating_g_m2</th>\n",
       "      <th>U_W_m2K</th>\n",
       "      <th>meets_U_requirement</th>\n",
       "    </tr>\n",
       "  </thead>\n",
       "  <tbody>\n",
       "    <tr>\n",
       "      <th>0</th>\n",
       "      <td>P1003-023</td>\n",
       "      <td>B</td>\n",
       "      <td>1003</td>\n",
       "      <td>0.923</td>\n",
       "      <td>233.3</td>\n",
       "      <td>249.0</td>\n",
       "      <td>0.364</td>\n",
       "      <td>True</td>\n",
       "    </tr>\n",
       "    <tr>\n",
       "      <th>1</th>\n",
       "      <td>P1009-016</td>\n",
       "      <td>A</td>\n",
       "      <td>1009</td>\n",
       "      <td>0.861</td>\n",
       "      <td>216.3</td>\n",
       "      <td>245.0</td>\n",
       "      <td>0.360</td>\n",
       "      <td>True</td>\n",
       "    </tr>\n",
       "    <tr>\n",
       "      <th>2</th>\n",
       "      <td>P1003-094</td>\n",
       "      <td>B</td>\n",
       "      <td>1003</td>\n",
       "      <td>0.954</td>\n",
       "      <td>219.6</td>\n",
       "      <td>185.0</td>\n",
       "      <td>0.352</td>\n",
       "      <td>True</td>\n",
       "    </tr>\n",
       "    <tr>\n",
       "      <th>3</th>\n",
       "      <td>P1004-001</td>\n",
       "      <td>B</td>\n",
       "      <td>1004</td>\n",
       "      <td>0.800</td>\n",
       "      <td>234.2</td>\n",
       "      <td>191.0</td>\n",
       "      <td>0.324</td>\n",
       "      <td>True</td>\n",
       "    </tr>\n",
       "    <tr>\n",
       "      <th>4</th>\n",
       "      <td>P1003-103</td>\n",
       "      <td>A</td>\n",
       "      <td>1003</td>\n",
       "      <td>0.836</td>\n",
       "      <td>224.7</td>\n",
       "      <td>220.0</td>\n",
       "      <td>0.344</td>\n",
       "      <td>True</td>\n",
       "    </tr>\n",
       "  </tbody>\n",
       "</table>\n",
       "</div>"
      ],
      "text/plain": [
       "    panel_id supplier  batch  thickness_mm  yield_strength_MPa  \\\n",
       "0  P1003-023        B   1003         0.923               233.3   \n",
       "1  P1009-016        A   1009         0.861               216.3   \n",
       "2  P1003-094        B   1003         0.954               219.6   \n",
       "3  P1004-001        B   1004         0.800               234.2   \n",
       "4  P1003-103        A   1003         0.836               224.7   \n",
       "\n",
       "   zinc_coating_g_m2  U_W_m2K  meets_U_requirement  \n",
       "0              249.0    0.364                 True  \n",
       "1              245.0    0.360                 True  \n",
       "2              185.0    0.352                 True  \n",
       "3              191.0    0.324                 True  \n",
       "4              220.0    0.344                 True  "
      ]
     },
     "execution_count": 3,
     "metadata": {},
     "output_type": "execute_result"
    }
   ],
   "source": [
    "\n",
    "# === Generar dataset sintético de Steel Frame ===\n",
    "import numpy as np\n",
    "import pandas as pd\n",
    "\n",
    "rng = np.random.default_rng(42)\n",
    "n = 240\n",
    "\n",
    "supplier = rng.choice(['A','B'], size=n, p=[0.55, 0.45])\n",
    "\n",
    "mu_A, mu_B = 0.90, 0.88\n",
    "sd_A, sd_B = 0.06, 0.07\n",
    "\n",
    "thickness = np.where(supplier=='A',\n",
    "                     rng.normal(mu_A, sd_A, size=n),\n",
    "                     rng.normal(mu_B, sd_B, size=n))\n",
    "thickness = np.clip(thickness, 0.70, 1.10)\n",
    "\n",
    "yield_strength = 230 + 80*(thickness-0.85) + rng.normal(0, 12, size=n)\n",
    "\n",
    "coating = np.where(supplier=='A',\n",
    "                   rng.normal(220, 18, size=n),\n",
    "                   rng.normal(210, 20, size=n))\n",
    "coating = np.clip(coating, 160, 280)\n",
    "\n",
    "base_U = 0.35 - 0.06*(thickness-0.85) + rng.normal(0, 0.015, size=n)\n",
    "bridge_penalty = np.where(supplier=='A', 0.012, 0.015)\n",
    "U_value = np.clip(base_U + bridge_penalty, 0.18, 0.55)\n",
    "\n",
    "meets_U = (U_value <= 0.40)\n",
    "\n",
    "batch = rng.integers(1001, 1012, size=n)\n",
    "panel_id = [f\"P{b}-{i:03d}\" for b, i in zip(batch, rng.integers(1, 160, size=n))]\n",
    "\n",
    "df = pd.DataFrame({\n",
    "    \"panel_id\": panel_id,\n",
    "    \"supplier\": supplier,\n",
    "    \"batch\": batch,\n",
    "    \"thickness_mm\": np.round(thickness, 3),\n",
    "    \"yield_strength_MPa\": np.round(yield_strength, 1),\n",
    "    \"zinc_coating_g_m2\": np.round(coating, 0),\n",
    "    \"U_W_m2K\": np.round(U_value, 3),\n",
    "    \"meets_U_requirement\": meets_U\n",
    "})\n",
    "\n",
    "df.head()\n"
   ]
  },
  {
   "cell_type": "markdown",
   "id": "945fb3f6",
   "metadata": {},
   "source": [
    "## 1. Notación y fórmulas clave"
   ]
  },
  {
   "cell_type": "markdown",
   "id": "2b2fb209",
   "metadata": {},
   "source": [
    "\n",
    "- Media muestral: \\(\\overline{x}=\\frac{1}{n}\\sum_{i=1}^n x_i\\).\n",
    "- Varianza muestral: \\(s^2=\\frac{1}{n-1}\\sum_{i=1}^n (x_i-\\overline{x})^2\\).\n",
    "- IC para media: \\(\\overline{x} \\pm t_{\\alpha/2,\\ n-1}\\ \\frac{s}{\\sqrt{n}}\\).\n",
    "- t de 1 muestra: \\(t=\\frac{\\overline{x}-\\mu_0}{s/\\sqrt{n}}\\).\n",
    "- t de 2 muestras (var. desiguales): \\(t=\\frac{\\overline{x}_1-\\overline{x}_2}{\\sqrt{\\frac{s_1^2}{n_1}+\\frac{s_2^2}{n_2}}}\\).\n"
   ]
  },
  {
   "cell_type": "markdown",
   "id": "7fee9d0d",
   "metadata": {},
   "source": [
    "## 2. Estimación puntual — Espesor (mm)"
   ]
  },
  {
   "cell_type": "code",
   "execution_count": 4,
   "id": "ab793eca",
   "metadata": {},
   "outputs": [
    {
     "data": {
      "text/plain": [
       "(240, np.float64(0.8863083333333334), np.float64(0.07090754140550173))"
      ]
     },
     "execution_count": 4,
     "metadata": {},
     "output_type": "execute_result"
    }
   ],
   "source": [
    "\n",
    "x = df[\"thickness_mm\"].dropna()\n",
    "n = x.size\n",
    "x_mean = x.mean()\n",
    "x_std = x.std(ddof=1)\n",
    "n, x_mean, x_std\n"
   ]
  },
  {
   "cell_type": "code",
   "execution_count": 5,
   "id": "dead08d6",
   "metadata": {},
   "outputs": [
    {
     "ename": "ModuleNotFoundError",
     "evalue": "No module named 'matplotlib'",
     "output_type": "error",
     "traceback": [
      "\u001b[0;31m---------------------------------------------------------------------------\u001b[0m",
      "\u001b[0;31mModuleNotFoundError\u001b[0m                       Traceback (most recent call last)",
      "Cell \u001b[0;32mIn[5], line 1\u001b[0m\n\u001b[0;32m----> 1\u001b[0m \u001b[38;5;28;01mimport\u001b[39;00m\u001b[38;5;250m \u001b[39m\u001b[38;5;21;01mmatplotlib\u001b[39;00m\u001b[38;5;21;01m.\u001b[39;00m\u001b[38;5;21;01mpyplot\u001b[39;00m\u001b[38;5;250m \u001b[39m\u001b[38;5;28;01mas\u001b[39;00m\u001b[38;5;250m \u001b[39m\u001b[38;5;21;01mplt\u001b[39;00m\n\u001b[1;32m      3\u001b[0m plt\u001b[38;5;241m.\u001b[39mhist(x, bins\u001b[38;5;241m=\u001b[39m\u001b[38;5;241m20\u001b[39m)\n\u001b[1;32m      4\u001b[0m plt\u001b[38;5;241m.\u001b[39mtitle(\u001b[38;5;124m\"\u001b[39m\u001b[38;5;124mHistograma de espesor (mm)\u001b[39m\u001b[38;5;124m\"\u001b[39m)\n",
      "\u001b[0;31mModuleNotFoundError\u001b[0m: No module named 'matplotlib'"
     ]
    }
   ],
   "source": [
    "\n",
    "import matplotlib.pyplot as plt\n",
    "\n",
    "plt.hist(x, bins=20)\n",
    "plt.title(\"Histograma de espesor (mm)\")\n",
    "plt.xlabel(\"Espesor (mm)\")\n",
    "plt.ylabel(\"Frecuencia\")\n",
    "plt.show()\n"
   ]
  },
  {
   "cell_type": "markdown",
   "id": "5d7d2c1c",
   "metadata": {},
   "source": [
    "## 3. Intervalo de confianza para la media de espesor (95%)"
   ]
  },
  {
   "cell_type": "code",
   "execution_count": null,
   "id": "d70bdeb6",
   "metadata": {},
   "outputs": [],
   "source": [
    "\n",
    "from scipy import stats\n",
    "alpha = 0.05\n",
    "t_crit = stats.t.ppf(1 - alpha/2, df=n-1)\n",
    "moe = t_crit * x_std/np.sqrt(n)\n",
    "(x_mean - moe, x_mean + moe)\n"
   ]
  },
  {
   "cell_type": "markdown",
   "id": "a139b7e7",
   "metadata": {},
   "source": [
    "## 4. Prueba t de 1 muestra — Espesor nominal"
   ]
  },
  {
   "cell_type": "code",
   "execution_count": null,
   "id": "76399ff4",
   "metadata": {},
   "outputs": [],
   "source": [
    "\n",
    "mu0 = 0.85\n",
    "t_stat, p_one_sided = stats.ttest_1samp(x, popmean=mu0, alternative=\"greater\")\n",
    "t_stat, p_one_sided\n"
   ]
  }
 ],
 "metadata": {
  "kernelspec": {
   "display_name": "Python (venvmys)",
   "language": "python",
   "name": "venv"
  },
  "language_info": {
   "codemirror_mode": {
    "name": "ipython",
    "version": 3
   },
   "file_extension": ".py",
   "mimetype": "text/x-python",
   "name": "python",
   "nbconvert_exporter": "python",
   "pygments_lexer": "ipython3",
   "version": "3.10.12"
  }
 },
 "nbformat": 4,
 "nbformat_minor": 5
}
