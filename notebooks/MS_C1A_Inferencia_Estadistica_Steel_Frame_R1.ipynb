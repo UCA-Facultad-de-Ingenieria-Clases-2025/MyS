{
 "cells": [
  {
   "cell_type": "markdown",
   "id": "dcdc6780",
   "metadata": {},
   "source": [
    "\n",
    "# Modelos y Simulación – **Clase 1**\n",
    "## Introducción a la Inferencia Estadística \n",
    "\n",
    "**Autor:** Cátedra – Modelos y Simulación - Facultad de Ingeniería - UCA - Javier Ouret   \n",
    "**Fecha:** 2025-08-09\n",
    "\n",
    "---\n",
    "\n"
   ]
  },
  {
   "cell_type": "markdown",
   "id": "cffe8e8b-b73d-4560-8daf-6024a44648f8",
   "metadata": {},
   "source": [
    "#### Módulo de utilidades estadísticas para medias. \n",
    "Funciones para pruebas de hipótesis sobre medias (Z y t), intervalos de confianza y potencia aproximada.  \n",
    "\n",
    "##### Cuantil de la normal: inv_norm_cdf(p) \n",
    "\n",
    "Devuelve z tal que Φ(z)=p (inversa de la CDF normal estándar). Se usa para obtener críticos Z.   \n",
    "$\\Phi(z)=\\frac{1}{\\sqrt{2\\pi}}\\int_{-\\infty}^{z} e^{-t^2/2}\\,dt,\n",
    "\\qquad z = \\Phi^{-1}(p)$.   \n",
    "\n",
    "##### Valor Crítico Z bilateral: z_crit(alpha_two_sided=0.05)   \n",
    "\n",
    "Devuelve z1−α/2. Para α=0.05, z0.975≈1.96z  \n",
    "$z_{\\text{crit}} = z_{1-\\alpha/2}.$\n",
    "\n",
    "##### Valor Crítico t aproximado: tcrit_approx_two_sided(df, alpha=0.05)\n",
    "\n",
    "- Si α=0.05 y los grados de libertad ν=df están en la tabla incluida, devuelve t1−α/2, ν\n",
    "- Si no está, toma el df más cercano.\n",
    "- Si α≠0.05, hace fallback a z1−α/2 (aproximación).   \n",
    "$t_{\\text{crit}} \\approx t_{1-\\alpha/2,\\ \\nu}\n",
    "\\quad\\text{(o bien)}\\quad\n",
    "t_{\\text{crit}} \\approx z_{1-\\alpha/2}\\ \\text{si no hay tabla para }\\alpha$.\n",
    "\n",
    "##### IC para la media con σ desconocida: ci_mean_unknown_sigma(xbar, s, n, alpha)\n",
    "\n",
    "Devuelve (LI,LS,tcrit) del intervalo t.\n",
    "\n",
    "$\\text{IC}_{1-\\alpha}(\\mu):\\ \\ \n",
    "\\bar{X} \\pm t_{1-\\alpha/2,\\ n-1}\\,\\frac{s}{\\sqrt{n}},\n",
    "\\qquad\n",
    "\\text{semi-ancho} = t_{1-\\alpha/2,\\ n-1}\\,\\frac{s}{\\sqrt{n}}$.\n",
    "##### Estadístico de prueba t: t_statistic(xbar, mu0, s, n)\n",
    "\n",
    "Calcula el t de Student para contrastar H0:μ=μ0 con σ desconocida.\n",
    "\n",
    "$t = \\frac{\\bar{X} - \\mu_0}{s/\\sqrt{n}}, \n",
    "\\qquad t \\sim t_{n-1}\\ \\ \\text{bajo }H_0$.\n",
    "##### Potencia aproximada (bilateral, normal): approx_power_two_sided(mu0, mu1, s, n, alpha)\n",
    "\n",
    "Aproxima la potencia usando normal (no t no-central). Define el tamaño de efecto estandarizado\n",
    "\n",
    "$\\Delta = \\frac{\\mu_1 - \\mu_0}{s/\\sqrt{n}}, \n",
    "\\qquad z_c = z_{1-\\alpha/2}$.   \n",
    "y usa   \n",
    "$\\text{Potencia} \\approx \n",
    "\\big[1-\\Phi(z_c - \\Delta)\\big] + \\Phi(-z_c - \\Delta)$.\n",
    "\n",
    "##### Se llama valor crítico porque es el valor del estadístico de prueba (Z, t, χ², F, etc.) que marca la frontera entre la región de aceptación y la región de rechazo de la hipótesis nula.\n",
    "- Si el estadístico calculado es mayor (en valor absoluto) que el valor crítico, caemos en la región de rechazo → se rechaza H0.\n",
    "- Si es menor, no se rechaza H0."
   ]
  },
  {
   "cell_type": "code",
   "execution_count": 12,
   "id": "fb01b9f2",
   "metadata": {},
   "outputs": [],
   "source": [
    "\n",
    "import math, statistics, random\n",
    "from statistics import mean, stdev\n",
    "\n",
    "def inv_norm_cdf(p):\n",
    "    if p <= 0.0 or p >= 1.0:\n",
    "        raise ValueError(\"p must be in (0,1)\")\n",
    "    a = [-3.969683028665376e+01,  2.209460984245205e+02,\n",
    "         -2.759285104469687e+02,  1.383577518672690e+02,\n",
    "         -3.066479806614716e+01,  2.506628277459239e+00]\n",
    "    b = [-5.447609879822406e+01,  1.615858368580409e+02,\n",
    "         -1.556989798598866e+02,  6.680131188771972e+01,\n",
    "         -1.328068155288572e+01]\n",
    "    c = [-7.784894002430293e-03, -3.223964580411365e-01,\n",
    "         -2.400758277161838e+00, -2.549732539343734e+00,\n",
    "          4.374664141464968e+00,  2.938163982698783e+00]\n",
    "    d = [ 7.784695709041462e-03,  3.224671290700398e-01,\n",
    "          2.445134137142996e+00,  3.754408661907416e+00]\n",
    "    plow = 0.02425\n",
    "    phigh = 1 - plow\n",
    "    if p < plow:\n",
    "        q = math.sqrt(-2*math.log(p))\n",
    "        return (((((c[0]*q + c[1])*q + c[2])*q + c[3])*q + c[4])*q + c[5]) / \\\n",
    "               ((((d[0]*q + d[1])*q + d[2])*q + d[3])*q + 1)\n",
    "    if phigh < p:\n",
    "        q = math.sqrt(-2*math.log(1-p))\n",
    "        return -(((((c[0]*q + c[1])*q + c[2])*q + c[3])*q + c[4])*q + c[5]) / \\\n",
    "                 ((((d[0]*q + d[1])*q + d[2])*q + d[3])*q + 1)\n",
    "    q = p - 0.5\n",
    "    r = q*q\n",
    "    a0 = (((((a[0]*r + a[1])*r + a[2])*r + a[3])*r + a[4])*r + a[5])\n",
    "    b0 = (((((b[0]*r + b[1])*r + b[2])*r + b[3])*r + b[4])*r + 1)\n",
    "    return (a0*q) / b0\n",
    "\n",
    "def z_crit(alpha_two_sided=0.05):\n",
    "    return abs(inv_norm_cdf(1 - alpha_two_sided/2))\n",
    "\n",
    "t_crit_table_95 = {\n",
    "    1:12.706, 2:4.303, 3:3.182, 4:2.776, 5:2.571, 6:2.447, 7:2.365, 8:2.306,\n",
    "    9:2.262, 10:2.228, 11:2.201, 12:2.179, 13:2.160, 14:2.145, 15:2.131,\n",
    "    16:2.120, 17:2.110, 18:2.101, 19:2.093, 20:2.086, 21:2.080, 22:2.074,\n",
    "    23:2.069, 24:2.064, 25:2.060, 26:2.056, 27:2.052, 28:2.048, 29:2.045,\n",
    "    30:2.042, 40:2.021, 60:2.000, 120:1.980\n",
    "}\n",
    "\n",
    "def tcrit_approx_two_sided(df, alpha=0.05):\n",
    "    if df in t_crit_table_95 and abs(alpha-0.05) < 1e-9:\n",
    "        return t_crit_table_95[df]\n",
    "    nearest = min(t_crit_table_95.keys(), key=lambda k: abs(k-df))\n",
    "    if abs(alpha-0.05) < 1e-9:\n",
    "        return t_crit_table_95[nearest]\n",
    "    return z_crit(alpha)\n",
    "\n",
    "def ci_mean_unknown_sigma(xbar, s, n, alpha=0.05):\n",
    "    df = n-1\n",
    "    tcrit = tcrit_approx_two_sided(df, alpha)\n",
    "    half = tcrit * (s / math.sqrt(n))\n",
    "    return (xbar - half, xbar + half, tcrit)\n",
    "\n",
    "def t_statistic(xbar, mu0, s, n):\n",
    "    return (xbar - mu0) / (s / math.sqrt(n))\n",
    "\n",
    "def approx_power_two_sided(mu0, mu1, s, n, alpha=0.05):\n",
    "    zc = z_crit(alpha)\n",
    "    Delta = (mu1 - mu0) / (s / math.sqrt(n))\n",
    "    from math import erf, sqrt\n",
    "    def Phi(z):\n",
    "        return 0.5*(1 + erf(z/math.sqrt(2)))\n",
    "    power = (1 - Phi(zc - Delta)) + Phi(-zc - Delta)\n",
    "    return power\n",
    "\n"
   ]
  },
  {
   "cell_type": "markdown",
   "id": "f7a3c6ad-5e22-4eb6-8d04-1335a8ed0e12",
   "metadata": {},
   "source": [
    "### Caso de uso: **espesores** de perfiles galvanizados.\n",
    "- **IC**, **prueba t**, **curva de potencia** y **cálculo de tamaño muestral**.\n",
    "- Funciones reutilizables para:\n",
    "  - obtener críticos Z/t,\n",
    "  - calcular IC de la media con σσ desconocida,\n",
    "  - computar el estadístico t,\n",
    "  - estimar la potencia de una prueba bilateral.\n"
   ]
  },
  {
   "cell_type": "markdown",
   "id": "41e5a171",
   "metadata": {},
   "source": [
    "\n",
    "Parámetros base\n",
    "\n",
    "- Espesor nominal\n",
    "- Tamaño muestral\n",
    "- Nivel\n"
   ]
  },
  {
   "cell_type": "code",
   "execution_count": 5,
   "id": "ae18b7f6",
   "metadata": {},
   "outputs": [
    {
     "data": {
      "text/plain": [
       "(0.9250663891742161, 0.020618592933675864, 25, 0.9, 0.05)"
      ]
     },
     "execution_count": 5,
     "metadata": {},
     "output_type": "execute_result"
    }
   ],
   "source": [
    "\n",
    "import random, statistics\n",
    "\n",
    "mu0 = 0.90      # mm\n",
    "n   = 25        # tamaño muestral\n",
    "alpha = 0.05    # 5%\n",
    "\n",
    "# Datos simulados (editables). Reemplazalos por tus mediciones reales si querés.\n",
    "random.seed(123)\n",
    "data = [0.92 + random.gauss(0, 0.03) for _ in range(n)]\n",
    "\n",
    "xbar = sum(data)/n\n",
    "s = statistics.stdev(data)\n",
    "xbar, s, n, mu0, alpha\n"
   ]
  },
  {
   "cell_type": "markdown",
   "id": "c26b45bf",
   "metadata": {},
   "source": [
    "\n",
    "## Agregar datos\n",
    "\n",
    "Lista de espesores en mm separados por comas, por ejemplo:\n",
    "```\n",
    "0.91, 0.92, 0.89, 0.94, 0.90, 0.93\n",
    "```\n",
    "Ejecutar la celda para reemplazar `data`, recalcular $(\\bar{x}), (s)$, IC y test.\n"
   ]
  },
  {
   "cell_type": "code",
   "execution_count": 10,
   "id": "2277ae33",
   "metadata": {},
   "outputs": [
    {
     "name": "stdout",
     "output_type": "stream",
     "text": [
      "No se pegaron datos; se mantienen los simulados.\n"
     ]
    }
   ],
   "source": [
    "\n",
    "# Pega/edita aquí (entre las comillas) tu lista de lecturas separadas por coma:\n",
    "raw = \"\"\n",
    "if raw.strip():\n",
    "    try:\n",
    "        data = [float(tok) for tok in raw.split(\",\") if tok.strip()!=\"\"]\n",
    "        n = len(data)\n",
    "        import statistics\n",
    "        xbar = sum(data)/n\n",
    "        s = statistics.stdev(data) if n>1 else float('nan')\n",
    "        print(f\"Datos cargados: n={n}, x̄={xbar:.4f} mm, s={s:.4f} mm\")\n",
    "    except Exception as e:\n",
    "        print(\"Error al parsear tus datos:\", e)\n",
    "else:\n",
    "    print(\"No se pegaron datos; se mantienen los simulados.\")\n"
   ]
  },
  {
   "cell_type": "markdown",
   "id": "56a598cf",
   "metadata": {},
   "source": [
    "\n",
    "## Intervalo de confianza y prueba t\n",
    "\n",
    "Calculamos IC (con $(\\sigma)$ desconocida) y test t bilateral $(H_0:\\mu=\\mu_0)$.\n"
   ]
  },
  {
   "cell_type": "code",
   "execution_count": 7,
   "id": "d0376719",
   "metadata": {},
   "outputs": [
    {
     "name": "stdout",
     "output_type": "stream",
     "text": [
      "Media muestral (x̄): 0.9251 mm\n",
      "Desvío muestral (s): 0.0206 mm\n",
      "IC 95.0%: (0.9166, 0.9336)  [t_crit≈2.064]\n",
      "t = 6.079  | Regla: rechazar si |t| > 2.064\n",
      "Decisión: Rechazar H0\n"
     ]
    }
   ],
   "source": [
    "\n",
    "ci_low, ci_high, tcrit = ci_mean_unknown_sigma(xbar, s, n, alpha)\n",
    "t_stat = t_statistic(xbar, mu0, s, n)\n",
    "decision = \"Rechazar H0\" if abs(t_stat) > tcrit else \"No rechazar H0\"\n",
    "\n",
    "print(f\"Media muestral (x̄): {xbar:.4f} mm\")\n",
    "print(f\"Desvío muestral (s): {s:.4f} mm\")\n",
    "print(f\"IC {(1-alpha)*100:.1f}%: ({ci_low:.4f}, {ci_high:.4f})  [t_crit≈{tcrit:.3f}]\")\n",
    "print(f\"t = {t_stat:.3f}  | Regla: rechazar si |t| > {tcrit:.3f}\")\n",
    "print(f\"Decisión: {decision}\")\n"
   ]
  },
  {
   "cell_type": "markdown",
   "id": "4bb603f7",
   "metadata": {},
   "source": [
    "\n",
    "## Curva de potencia (aproximación)\n",
    "\n",
    "Potencia del test bilateral para detectar un desvío mínimo relevante $(\\delta)$.\n"
   ]
  },
  {
   "cell_type": "code",
   "execution_count": null,
   "id": "5bab3e63",
   "metadata": {},
   "outputs": [],
   "source": [
    "\n",
    "import numpy as np\n",
    "import matplotlib.pyplot as plt\n",
    "\n",
    "delta = 0.02  # mm\n",
    "n_values = list(range(8, 81, 4))\n",
    "\n",
    "powers = [approx_power_two_sided(mu0, mu0+delta, s, n_i, alpha) for n_i in n_values]\n",
    "\n",
    "plt.figure()\n",
    "plt.plot(n_values, powers, marker='o')\n",
    "plt.xlabel(\"Tamaño muestral n\")\n",
    "plt.ylabel(\"Potencia aproximada\")\n",
    "plt.title(f\"Curva de potencia (α={alpha}, δ={delta:.3f} mm)\")\n",
    "plt.grid(True)\n",
    "plt.show()\n"
   ]
  },
  {
   "cell_type": "markdown",
   "id": "8a51edf5",
   "metadata": {},
   "source": [
    "\n",
    "## ¿Qué n necesito para una potencia objetivo?\n",
    "\n",
    "Sea $(\\delta = |\\mu_1-\\mu_0|)$. Hallamos el $(n)$ mínimo (aprox.) para potencia $(\\ge 1-\\beta)$.\n"
   ]
  },
  {
   "cell_type": "code",
   "execution_count": 11,
   "id": "8a128fdd",
   "metadata": {},
   "outputs": [
    {
     "name": "stdout",
     "output_type": "stream",
     "text": [
      "Objetivo: potencia ≥ 0.80 con δ=0.020 mm, α=0.05\n",
      "Resultado: n mínimo ≈ 9\n"
     ]
    }
   ],
   "source": [
    "\n",
    "target_power = 0.8  # 80%\n",
    "delta = 0.02        # mm\n",
    "\n",
    "n_min = None\n",
    "for n_i in range(8, 1000):\n",
    "    p = approx_power_two_sided(mu0, mu0+delta, s, n_i, alpha)\n",
    "    if p >= target_power:\n",
    "        n_min = n_i\n",
    "        break\n",
    "\n",
    "print(f\"Objetivo: potencia ≥ {target_power:.2f} con δ={delta:.3f} mm, α={alpha}\")\n",
    "print(\"Resultado:\", \"no alcanzado\" if n_min is None else f\"n mínimo ≈ {n_min}\")\n"
   ]
  },
  {
   "cell_type": "code",
   "execution_count": null,
   "id": "510487ad-9c22-4378-8d1c-85675fe66c0d",
   "metadata": {},
   "outputs": [],
   "source": []
  }
 ],
 "metadata": {
  "kernelspec": {
   "display_name": "Python (MyS)",
   "language": "python",
   "name": "venv"
  },
  "language_info": {
   "codemirror_mode": {
    "name": "ipython",
    "version": 3
   },
   "file_extension": ".py",
   "mimetype": "text/x-python",
   "name": "python",
   "nbconvert_exporter": "python",
   "pygments_lexer": "ipython3",
   "version": "3.10.12"
  }
 },
 "nbformat": 4,
 "nbformat_minor": 5
}
